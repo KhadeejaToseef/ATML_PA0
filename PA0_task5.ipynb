{
  "cells": [
    {
      "cell_type": "markdown",
      "metadata": {
        "id": "lL-c7jeFBj6G"
      },
      "source": [
        "# **<center> <span style=\"color: pink;\">ATML PA_0 </span>**"
      ]
    },
    {
      "cell_type": "markdown",
      "metadata": {
        "id": "jfTUMs1NBj6I"
      },
      "source": [
        "### <span style=\"color: DeepPink;\"> Name : Khadeeja Toseef </span>\n",
        "### <span style=\"color: DeepPink;\"> Roll Number : 27100309 </span>"
      ]
    },
    {
      "cell_type": "markdown",
      "metadata": {
        "id": "fKfO12ZcBj6J"
      },
      "source": [
        "## <center> <span style=\"color: pink;\">Task 5: Modality Gap in CLIP </span>"
      ]
    },
    {
      "cell_type": "markdown",
      "metadata": {
        "id": "fNEvHffoBj6J"
      },
      "source": [
        "### <span style=\"color: HotPink;\"> 1. Zero-Shot Classification on STL-10\n",
        "</span>"
      ]
    },
    {
      "cell_type": "markdown",
      "metadata": {
        "id": "38JLeHyiBj6J"
      },
      "source": [
        "<span style=\"color: MediumPurple;\"> (a) Download the STL-10 dataset from torchvision.\n",
        "</span>"
      ]
    },
    {
      "cell_type": "markdown",
      "metadata": {
        "id": "f_KuzKUCBj6K"
      },
      "source": [
        "<span style=\"color: #D8BFD8;\">importing libraries </span>"
      ]
    },
    {
      "cell_type": "code",
      "execution_count": 16,
      "metadata": {
        "id": "kVTzY1dLIp8n",
        "colab": {
          "base_uri": "https://localhost:8080/",
          "height": 948
        },
        "outputId": "b8e66006-0090-4bbe-e4ca-27e50d2f85a9"
      },
      "outputs": [
        {
          "output_type": "stream",
          "name": "stdout",
          "text": [
            "Found existing installation: clip 1.0\n",
            "Uninstalling clip-1.0:\n",
            "  Successfully uninstalled clip-1.0\n",
            "Collecting git+https://github.com/openai/CLIP.git\n",
            "  Cloning https://github.com/openai/CLIP.git to /tmp/pip-req-build-80pfw46o\n",
            "  Running command git clone --filter=blob:none --quiet https://github.com/openai/CLIP.git /tmp/pip-req-build-80pfw46o\n",
            "  Resolved https://github.com/openai/CLIP.git to commit dcba3cb2e2827b402d2701e7e1c7d9fed8a20ef1\n",
            "  Preparing metadata (setup.py) ... \u001b[?25l\u001b[?25hdone\n",
            "Requirement already satisfied: ftfy in /usr/local/lib/python3.12/dist-packages (from clip==1.0) (6.3.1)\n",
            "Requirement already satisfied: packaging in /usr/local/lib/python3.12/dist-packages (from clip==1.0) (25.0)\n",
            "Requirement already satisfied: regex in /usr/local/lib/python3.12/dist-packages (from clip==1.0) (2024.11.6)\n",
            "Requirement already satisfied: tqdm in /usr/local/lib/python3.12/dist-packages (from clip==1.0) (4.67.1)\n",
            "Requirement already satisfied: torch in /usr/local/lib/python3.12/dist-packages (from clip==1.0) (2.8.0+cu126)\n",
            "Requirement already satisfied: torchvision in /usr/local/lib/python3.12/dist-packages (from clip==1.0) (0.23.0+cu126)\n",
            "Requirement already satisfied: wcwidth in /usr/local/lib/python3.12/dist-packages (from ftfy->clip==1.0) (0.2.13)\n",
            "Requirement already satisfied: filelock in /usr/local/lib/python3.12/dist-packages (from torch->clip==1.0) (3.19.1)\n",
            "Requirement already satisfied: typing-extensions>=4.10.0 in /usr/local/lib/python3.12/dist-packages (from torch->clip==1.0) (4.15.0)\n",
            "Requirement already satisfied: setuptools in /usr/local/lib/python3.12/dist-packages (from torch->clip==1.0) (75.2.0)\n",
            "Requirement already satisfied: sympy>=1.13.3 in /usr/local/lib/python3.12/dist-packages (from torch->clip==1.0) (1.13.3)\n",
            "Requirement already satisfied: networkx in /usr/local/lib/python3.12/dist-packages (from torch->clip==1.0) (3.5)\n",
            "Requirement already satisfied: jinja2 in /usr/local/lib/python3.12/dist-packages (from torch->clip==1.0) (3.1.6)\n",
            "Requirement already satisfied: fsspec in /usr/local/lib/python3.12/dist-packages (from torch->clip==1.0) (2025.3.0)\n",
            "Requirement already satisfied: nvidia-cuda-nvrtc-cu12==12.6.77 in /usr/local/lib/python3.12/dist-packages (from torch->clip==1.0) (12.6.77)\n",
            "Requirement already satisfied: nvidia-cuda-runtime-cu12==12.6.77 in /usr/local/lib/python3.12/dist-packages (from torch->clip==1.0) (12.6.77)\n",
            "Requirement already satisfied: nvidia-cuda-cupti-cu12==12.6.80 in /usr/local/lib/python3.12/dist-packages (from torch->clip==1.0) (12.6.80)\n",
            "Requirement already satisfied: nvidia-cudnn-cu12==9.10.2.21 in /usr/local/lib/python3.12/dist-packages (from torch->clip==1.0) (9.10.2.21)\n",
            "Requirement already satisfied: nvidia-cublas-cu12==12.6.4.1 in /usr/local/lib/python3.12/dist-packages (from torch->clip==1.0) (12.6.4.1)\n",
            "Requirement already satisfied: nvidia-cufft-cu12==11.3.0.4 in /usr/local/lib/python3.12/dist-packages (from torch->clip==1.0) (11.3.0.4)\n",
            "Requirement already satisfied: nvidia-curand-cu12==10.3.7.77 in /usr/local/lib/python3.12/dist-packages (from torch->clip==1.0) (10.3.7.77)\n",
            "Requirement already satisfied: nvidia-cusolver-cu12==11.7.1.2 in /usr/local/lib/python3.12/dist-packages (from torch->clip==1.0) (11.7.1.2)\n",
            "Requirement already satisfied: nvidia-cusparse-cu12==12.5.4.2 in /usr/local/lib/python3.12/dist-packages (from torch->clip==1.0) (12.5.4.2)\n",
            "Requirement already satisfied: nvidia-cusparselt-cu12==0.7.1 in /usr/local/lib/python3.12/dist-packages (from torch->clip==1.0) (0.7.1)\n",
            "Requirement already satisfied: nvidia-nccl-cu12==2.27.3 in /usr/local/lib/python3.12/dist-packages (from torch->clip==1.0) (2.27.3)\n",
            "Requirement already satisfied: nvidia-nvtx-cu12==12.6.77 in /usr/local/lib/python3.12/dist-packages (from torch->clip==1.0) (12.6.77)\n",
            "Requirement already satisfied: nvidia-nvjitlink-cu12==12.6.85 in /usr/local/lib/python3.12/dist-packages (from torch->clip==1.0) (12.6.85)\n",
            "Requirement already satisfied: nvidia-cufile-cu12==1.11.1.6 in /usr/local/lib/python3.12/dist-packages (from torch->clip==1.0) (1.11.1.6)\n",
            "Requirement already satisfied: triton==3.4.0 in /usr/local/lib/python3.12/dist-packages (from torch->clip==1.0) (3.4.0)\n",
            "Requirement already satisfied: numpy in /usr/local/lib/python3.12/dist-packages (from torchvision->clip==1.0) (2.0.2)\n",
            "Requirement already satisfied: pillow!=8.3.*,>=5.3.0 in /usr/local/lib/python3.12/dist-packages (from torchvision->clip==1.0) (11.3.0)\n",
            "Requirement already satisfied: mpmath<1.4,>=1.1.0 in /usr/local/lib/python3.12/dist-packages (from sympy>=1.13.3->torch->clip==1.0) (1.3.0)\n",
            "Requirement already satisfied: MarkupSafe>=2.0 in /usr/local/lib/python3.12/dist-packages (from jinja2->torch->clip==1.0) (3.0.2)\n",
            "Building wheels for collected packages: clip\n",
            "  Building wheel for clip (setup.py) ... \u001b[?25l\u001b[?25hdone\n",
            "  Created wheel for clip: filename=clip-1.0-py3-none-any.whl size=1369490 sha256=790c698dd0e339d4172d84c759549d7eda8e146ac1205432292b994024b6ec9d\n",
            "  Stored in directory: /tmp/pip-ephem-wheel-cache-9s2nr6iw/wheels/35/3e/df/3d24cbfb3b6a06f17a2bfd7d1138900d4365d9028aa8f6e92f\n",
            "Successfully built clip\n",
            "Installing collected packages: clip\n",
            "Successfully installed clip-1.0\n"
          ]
        },
        {
          "output_type": "display_data",
          "data": {
            "application/vnd.colab-display-data+json": {
              "pip_warning": {
                "packages": [
                  "clip"
                ]
              },
              "id": "28300202509a4a0783c0e1fe56f4d852"
            }
          },
          "metadata": {}
        }
      ],
      "source": [
        "# !pip install clip\n",
        "!pip uninstall -y clip\n",
        "!pip install git+https://github.com/openai/CLIP.git\n",
        "import os\n",
        "import umap\n",
        "import clip\n",
        "import torch\n",
        "import torchvision\n",
        "\n",
        "import numpy as np\n",
        "from sklearn.linear_model import LogisticRegression\n",
        "from torch.utils.data import DataLoader\n",
        "import matplotlib.pyplot as plt\n",
        "# import torchvision.transforms as transforms\n",
        "from torchvision.datasets import STL10\n",
        "from tqdm import tqdm\n",
        "# from torchvision.transforms import Compose, Resize, CenterCrop, ToTensor, Normalize"
      ]
    },
    {
      "cell_type": "code",
      "source": [
        "print(dir(clip))"
      ],
      "metadata": {
        "colab": {
          "base_uri": "https://localhost:8080/"
        },
        "id": "b9yp0kl1R6WX",
        "outputId": "e352703c-5edc-4be0-f922-0f62ded128e1"
      },
      "execution_count": 2,
      "outputs": [
        {
          "output_type": "stream",
          "name": "stdout",
          "text": [
            "['__builtins__', '__cached__', '__doc__', '__file__', '__loader__', '__name__', '__package__', '__path__', '__spec__', 'available_models', 'clip', 'load', 'model', 'simple_tokenizer', 'tokenize']\n"
          ]
        }
      ]
    },
    {
      "cell_type": "code",
      "execution_count": 4,
      "metadata": {
        "colab": {
          "base_uri": "https://localhost:8080/"
        },
        "id": "l_AkRRtWBvRS",
        "outputId": "c94626a5-8c60-47b1-9104-0fa53c90611a"
      },
      "outputs": [
        {
          "output_type": "stream",
          "name": "stdout",
          "text": [
            "STL-10 dataset downloaded.\n"
          ]
        }
      ],
      "source": [
        "\n",
        "# Load CLIP preprocessing pipeline\n",
        "_, preprocess = clip.load(\"ViT-B/32\", device=\"cuda\" if torch.cuda.is_available() else \"cpu\")\n",
        "\n",
        "trainset = torchvision.datasets.STL10(root='./data', split='train', download=True, transform=preprocess)\n",
        "testset = torchvision.datasets.STL10(root='./data', split='test', download=True, transform=preprocess)\n",
        "\n",
        "dataloader = DataLoader(testset, batch_size=64, shuffle=False, num_workers=2)\n",
        "\n",
        "print(\"STL-10 dataset downloaded.\")"
      ]
    },
    {
      "cell_type": "markdown",
      "metadata": {
        "id": "emZvKlXwBj6K"
      },
      "source": [
        "<span style=\"color: MediumPurple;\"> (b) Load OpenAI’s CLIP model from the official implementation of clip.\n",
        "</span>"
      ]
    },
    {
      "cell_type": "code",
      "execution_count": 5,
      "metadata": {
        "id": "nXDJO1SSIwUb"
      },
      "outputs": [],
      "source": [
        "device = \"cuda\" if torch.cuda.is_available() else \"cpu\"\n",
        "model, preprocess = clip.load(\"ViT-B/32\", device=device)"
      ]
    },
    {
      "cell_type": "code",
      "execution_count": 6,
      "metadata": {
        "id": "tKCYNklvI38r"
      },
      "outputs": [],
      "source": [
        "classnames = ['airplane', 'bird', 'car', 'cat', 'deer', 'dog', 'horse', 'monkey', 'ship', 'truck']"
      ]
    },
    {
      "cell_type": "markdown",
      "metadata": {
        "id": "48mS0b7QBj6L"
      },
      "source": [
        "<span style=\"color: MediumPurple;\"> (c) Evaluate clip for zero-shot accuracy on STL-10 using different prompting techniques:\n",
        "</span>   "
      ]
    },
    {
      "cell_type": "markdown",
      "metadata": {
        "id": "EUYwgkJoFoBm"
      },
      "source": [
        "<span style=\"color: MediumPurple;\"> i. Plain labels (e.g., “cat”).\n",
        "</span>  "
      ]
    },
    {
      "cell_type": "code",
      "execution_count": 7,
      "metadata": {
        "id": "Obfa4sUPF3VS",
        "colab": {
          "base_uri": "https://localhost:8080/"
        },
        "outputId": "97067c4d-4d2e-4e74-cc30-17a8bd5e9414"
      },
      "outputs": [
        {
          "output_type": "stream",
          "name": "stdout",
          "text": [
            "\n",
            "Evaluating Zero-Shot Accuracy on STL-10 (Plain Prompts)...\n"
          ]
        },
        {
          "output_type": "stream",
          "name": "stderr",
          "text": [
            "100%|██████████| 125/125 [22:00<00:00, 10.57s/it]"
          ]
        },
        {
          "output_type": "stream",
          "name": "stdout",
          "text": [
            "\n",
            "Zero-Shot Accuracy with Plain Labels: 96.25%\n"
          ]
        },
        {
          "output_type": "stream",
          "name": "stderr",
          "text": [
            "\n"
          ]
        }
      ],
      "source": [
        "plain_text_prompts = classnames\n",
        "\n",
        "# tokenize prompts\n",
        "text_inputs = torch.cat([clip.tokenize(label) for label in plain_text_prompts]).to(device)\n",
        "\n",
        "# encode prompted text features\n",
        "with torch.no_grad():\n",
        "    text_features = model.encode_text(text_inputs)\n",
        "    text_features /= text_features.norm(dim=-1, keepdim=True)  # normalize\n",
        "\n",
        "# evaluate zero-shot classification with prompted text\n",
        "correct = 0\n",
        "total = 0\n",
        "\n",
        "print(\"\\nEvaluating Zero-Shot Accuracy on STL-10 (Plain Prompts)...\")\n",
        "\n",
        "with torch.no_grad():\n",
        "    for images, labels in tqdm(dataloader):\n",
        "        images = images.to(device)\n",
        "        labels = labels.to(device)\n",
        "\n",
        "        # encode image features\n",
        "        image_features = model.encode_image(images)\n",
        "        image_features /= image_features.norm(dim=-1, keepdim=True)\n",
        "\n",
        "        # compute similarity (cosine) between image and text features\n",
        "        similarity = (100.0 * image_features @ text_features.T)  # shape: [batch_size, num_classes]\n",
        "        predictions = similarity.argmax(dim=1)\n",
        "\n",
        "        correct += (predictions == labels).sum().item()\n",
        "        total += labels.size(0)\n",
        "\n",
        "# Final accuracy\n",
        "accuracy = 100 * correct / total\n",
        "print(f\"\\nZero-Shot Accuracy with Plain Labels: {accuracy:.2f}%\")\n"
      ]
    },
    {
      "cell_type": "markdown",
      "metadata": {
        "id": "YkX4-5qkFnhE"
      },
      "source": [
        "<span style=\"color: MediumPurple;\"> ii. Prompted text (e.g., “a photo of a cat”).\n",
        "</span>   "
      ]
    },
    {
      "cell_type": "code",
      "execution_count": 9,
      "metadata": {
        "colab": {
          "base_uri": "https://localhost:8080/"
        },
        "id": "ipAdoBX-F4P4",
        "outputId": "85d84929-2813-4431-99a5-d8cff92e07b2"
      },
      "outputs": [
        {
          "output_type": "stream",
          "name": "stdout",
          "text": [
            "\n",
            "Evaluating Zero-Shot Accuracy on STL-10 (Prompted Text: 'a photo of a <label>')...\n"
          ]
        },
        {
          "output_type": "stream",
          "name": "stderr",
          "text": [
            "100%|██████████| 125/125 [21:35<00:00, 10.37s/it]"
          ]
        },
        {
          "output_type": "stream",
          "name": "stdout",
          "text": [
            "\n",
            "Zero-Shot Accuracy with Prompted Text ('a photo of a <label>'): 97.36%\n"
          ]
        },
        {
          "output_type": "stream",
          "name": "stderr",
          "text": [
            "\n"
          ]
        }
      ],
      "source": [
        "prompted_text_prompts = [f\"a photo of a {label}\" for label in classnames]\n",
        "\n",
        "# tokenize prompts\n",
        "text_inputs_prompted = torch.cat([clip.tokenize(p) for p in prompted_text_prompts]).to(device)\n",
        "\n",
        "# encode prompted text features\n",
        "with torch.no_grad():\n",
        "    text_features_prompted = model.encode_text(text_inputs_prompted)\n",
        "    text_features_prompted /= text_features_prompted.norm(dim=-1, keepdim=True)\n",
        "\n",
        "# evaluate zero-shot classification with prompted text\n",
        "correct_prompted = 0\n",
        "total_prompted = 0\n",
        "\n",
        "print(\"\\nEvaluating Zero-Shot Accuracy on STL-10 (Prompted Text: 'a photo of a <label>')...\")\n",
        "\n",
        "with torch.no_grad():\n",
        "    for images, labels in tqdm(dataloader):\n",
        "        images = images.to(device)\n",
        "        labels = labels.to(device)\n",
        "\n",
        "        image_features = model.encode_image(images)\n",
        "        image_features /= image_features.norm(dim=-1, keepdim=True)\n",
        "\n",
        "        similarity = (100.0 * image_features @ text_features_prompted.T)\n",
        "        predictions = similarity.argmax(dim=1)\n",
        "\n",
        "        correct_prompted += (predictions == labels).sum().item()\n",
        "        total_prompted += labels.size(0)\n",
        "\n",
        "accuracy_prompted = 100 * correct_prompted / total_prompted\n",
        "print(f\"\\nZero-Shot Accuracy with Prompted Text ('a photo of a <label>'): {accuracy_prompted:.2f}%\")\n"
      ]
    },
    {
      "cell_type": "markdown",
      "metadata": {
        "id": "qO2kHO5aFnSO"
      },
      "source": [
        "<span style=\"color: MediumPurple;\"> iii. More descriptive variants of prompts.\n",
        "</span>"
      ]
    },
    {
      "cell_type": "code",
      "execution_count": 10,
      "metadata": {
        "colab": {
          "base_uri": "https://localhost:8080/"
        },
        "id": "i-0mWqThF4zC",
        "outputId": "0f1658ff-1138-4c08-c2a4-7e9dffec1663"
      },
      "outputs": [
        {
          "output_type": "stream",
          "name": "stdout",
          "text": [
            "\n",
            "Evaluating Zero-Shot Accuracy on STL-10 (Descriptive Prompts)...\n"
          ]
        },
        {
          "output_type": "stream",
          "name": "stderr",
          "text": [
            "100%|██████████| 125/125 [20:31<00:00,  9.85s/it]"
          ]
        },
        {
          "output_type": "stream",
          "name": "stdout",
          "text": [
            "\n",
            "Zero-Shot Accuracy with Descriptive Prompts: 96.26%\n"
          ]
        },
        {
          "output_type": "stream",
          "name": "stderr",
          "text": [
            "\n"
          ]
        }
      ],
      "source": [
        "# ----------- (iii) More Descriptive Prompts -----------\n",
        "descriptive_prompts = [f\"a high-resolution photo of a cute {label} in nature\" for label in classnames]\n",
        "\n",
        "# Tokenize descriptive prompts\n",
        "text_inputs_desc = torch.cat([clip.tokenize(p) for p in descriptive_prompts]).to(device)\n",
        "\n",
        "# Encode text features for descriptive prompts\n",
        "with torch.no_grad():\n",
        "    text_features_desc = model.encode_text(text_inputs_desc)\n",
        "    text_features_desc /= text_features_desc.norm(dim=-1, keepdim=True)\n",
        "\n",
        "# Evaluate with descriptive prompts\n",
        "correct_desc = 0\n",
        "total_desc = 0\n",
        "\n",
        "print(\"\\nEvaluating Zero-Shot Accuracy on STL-10 (Descriptive Prompts)...\")\n",
        "\n",
        "with torch.no_grad():\n",
        "    for images, labels in tqdm(dataloader):\n",
        "        images = images.to(device)\n",
        "        labels = labels.to(device)\n",
        "\n",
        "        image_features = model.encode_image(images)\n",
        "        image_features /= image_features.norm(dim=-1, keepdim=True)\n",
        "\n",
        "        similarity = (100.0 * image_features @ text_features_desc.T)\n",
        "        predictions = similarity.argmax(dim=1)\n",
        "\n",
        "        correct_desc += (predictions == labels).sum().item()\n",
        "        total_desc += labels.size(0)\n",
        "\n",
        "accuracy_desc = 100 * correct_desc / total_desc\n",
        "print(f\"\\nZero-Shot Accuracy with Descriptive Prompts: {accuracy_desc:.2f}%\")\n"
      ]
    },
    {
      "cell_type": "markdown",
      "metadata": {
        "id": "XHNZ0O3rBj6L"
      },
      "source": [
        "<span style=\"color: MediumPurple;\"> (d) You can experiment with the prompts on a small subset. However, you are to compare accuracies across atleast 3 different prompting strategies for the whole test set\n",
        "</span>"
      ]
    },
    {
      "cell_type": "code",
      "execution_count": 11,
      "metadata": {
        "id": "vhFrb-d_N3MI",
        "colab": {
          "base_uri": "https://localhost:8080/"
        },
        "outputId": "e84b3844-7be7-465c-b341-c6e5b744e577"
      },
      "outputs": [
        {
          "output_type": "stream",
          "name": "stdout",
          "text": [
            "\n",
            "==== Zero-Shot Accuracy Comparison on STL-10 ====\n",
            "Plain labels           : 96.25%\n",
            "Prompted ('a photo of'): 97.36%\n",
            "Descriptive prompts    : 96.26%\n"
          ]
        }
      ],
      "source": [
        "print(\"\\n==== Zero-Shot Accuracy Comparison on STL-10 ====\")\n",
        "print(f\"Plain labels           : {accuracy:.2f}%\")\n",
        "print(f\"Prompted ('a photo of'): {accuracy_prompted:.2f}%\")\n",
        "print(f\"Descriptive prompts    : {accuracy_desc:.2f}%\")"
      ]
    },
    {
      "cell_type": "markdown",
      "metadata": {
        "id": "OEqcytLSBj6L"
      },
      "source": [
        "### <span style=\"color: HotPink;\"> 2. Exploring the Modality Gap\n",
        "</span>"
      ]
    },
    {
      "cell_type": "markdown",
      "metadata": {
        "id": "jpWW-RacBj6L"
      },
      "source": [
        "<span style=\"color: MediumPurple;\"> (a) Use the vision and text model within CLIP to extract image and label embeddings from CLIP for a few (50-100) STL-10 samples.\n",
        "</span>"
      ]
    },
    {
      "cell_type": "code",
      "source": [
        "# Extract image and text embeddings for a subset of STL-10 samples\n",
        "\n",
        "num_samples = 100  # Number of samples to use\n",
        "subset_indices = np.random.choice(len(testset), num_samples, replace=False)\n",
        "subset_testset = torch.utils.data.Subset(testset, subset_indices)\n",
        "subset_dataloader = DataLoader(subset_testset, batch_size=32, shuffle=False, num_workers=2)\n",
        "\n",
        "image_embeddings = []\n",
        "labels_list = []\n",
        "\n",
        "print(f\"\\nExtracting image embeddings for {num_samples} samples...\")\n",
        "with torch.no_grad():\n",
        "    for images, labels in tqdm(subset_dataloader):\n",
        "        images = images.to(device)\n",
        "        image_features = model.encode_image(images)\n",
        "        image_features /= image_features.norm(dim=-1, keepdim=True)\n",
        "        image_embeddings.append(image_features.cpu())\n",
        "        labels_list.append(labels.cpu())\n",
        "\n",
        "image_embeddings = torch.cat(image_embeddings)\n",
        "labels_list = torch.cat(labels_list)\n",
        "\n",
        "# Extract text embeddings for class names\n",
        "text_inputs = torch.cat([clip.tokenize(label) for label in classnames]).to(device)\n",
        "with torch.no_grad():\n",
        "    text_embeddings = model.encode_text(text_inputs)\n",
        "    text_embeddings /= text_embeddings.norm(dim=-1, keepdim=True)\n",
        "\n",
        "print(\"Image and text embeddings extracted.\")"
      ],
      "metadata": {
        "colab": {
          "base_uri": "https://localhost:8080/"
        },
        "id": "NB9f9M7HXVPM",
        "outputId": "e2899c23-faa4-42c6-fbab-e40c1dfcfe27"
      },
      "execution_count": 12,
      "outputs": [
        {
          "output_type": "stream",
          "name": "stdout",
          "text": [
            "\n",
            "Extracting image embeddings for 100 samples...\n"
          ]
        },
        {
          "output_type": "stream",
          "name": "stderr",
          "text": [
            "100%|██████████| 4/4 [00:23<00:00,  6.00s/it]\n"
          ]
        },
        {
          "output_type": "stream",
          "name": "stdout",
          "text": [
            "Image and text embeddings extracted.\n"
          ]
        }
      ]
    },
    {
      "cell_type": "markdown",
      "metadata": {
        "id": "2x06qxOHBj6M"
      },
      "source": [
        "<span style=\"color: MediumPurple;\"> (b) Use dimensionality reduction techniques such as UMAP or t-SNE to project the embeddings into 2D space.\n",
        "</span>"
      ]
    },
    {
      "cell_type": "code",
      "source": [
        "# Concatenate image and text embeddings for dimensionality reduction\n",
        "all_embeddings = torch.cat([image_embeddings, text_embeddings])\n",
        "all_labels = torch.cat([labels_list, torch.arange(len(classnames)) + len(torch.unique(labels_list))]) # Assign unique labels to text embeddings\n",
        "\n",
        "# Apply UMAP for dimensionality reduction\n",
        "reducer = umap.UMAP(n_components=2, random_state=42)\n",
        "reduced_embeddings = reducer.fit_transform(all_embeddings)\n",
        "\n",
        "# Separate reduced embeddings\n",
        "reduced_image_embeddings = reduced_embeddings[:len(image_embeddings)]\n",
        "reduced_text_embeddings = reduced_embeddings[len(image_embeddings):]\n"
      ],
      "metadata": {
        "colab": {
          "base_uri": "https://localhost:8080/"
        },
        "id": "_UvJXQ7NYaoP",
        "outputId": "4e43d91a-95a5-4bac-cf61-7c33c671e867"
      },
      "execution_count": 17,
      "outputs": [
        {
          "output_type": "stream",
          "name": "stderr",
          "text": [
            "/usr/local/lib/python3.12/dist-packages/umap/umap_.py:1952: UserWarning: n_jobs value 1 overridden to 1 by setting random_state. Use no seed for parallelism.\n",
            "  warn(\n"
          ]
        }
      ]
    },
    {
      "cell_type": "markdown",
      "metadata": {
        "id": "LxKibV1HBj6M"
      },
      "source": [
        "<span style=\"color: MediumPurple;\"> (c) Visualize and compare the distributions of text and image embeddings.\n",
        "</span>"
      ]
    },
    {
      "cell_type": "code",
      "source": [
        "# Visualize the reduced embeddings\n",
        "plt.figure(figsize=(12, 8))\n",
        "\n",
        "# Plot image embeddings, colored by their class\n",
        "scatter_image = plt.scatter(reduced_image_embeddings[:, 0], reduced_image_embeddings[:, 1],\n",
        "                            c=labels_list, cmap='tab10', label='Image Embeddings', alpha=0.6)\n",
        "\n",
        "# Plot text embeddings with distinct markers\n",
        "scatter_text = plt.scatter(reduced_text_embeddings[:, 0], reduced_text_embeddings[:, 1],\n",
        "                           marker='*', s=200, color='black', label='Text Embeddings')\n",
        "\n",
        "# Add class names next to text embeddings\n",
        "for i, label in enumerate(classnames):\n",
        "    plt.text(reduced_text_embeddings[i, 0], reduced_text_embeddings[i, 1], label, fontsize=12)\n",
        "\n",
        "plt.title('UMAP Projection of Image and Text Embeddings')\n",
        "plt.xlabel('UMAP Component 1')\n",
        "plt.ylabel('UMAP Component 2')\n",
        "plt.legend()\n",
        "plt.grid(True)\n",
        "plt.show()"
      ],
      "metadata": {
        "colab": {
          "base_uri": "https://localhost:8080/",
          "height": 718
        },
        "id": "OnclJ7RZx_6C",
        "outputId": "cbe546ec-39d1-48d0-a846-78e7d868072b"
      },
      "execution_count": 18,
      "outputs": [
        {
          "output_type": "display_data",
          "data": {
            "text/plain": [
              "<Figure size 1200x800 with 1 Axes>"
            ],
            "image/png": "[encoded data removed]"
          },
          "metadata": {}
        }
      ]
    },
    {
      "cell_type": "markdown",
      "metadata": {
        "id": "MlfuLVKWBj6M"
      },
      "source": [
        "<span style=\"color: MediumPurple;\"> (d) Briefly explain your findings:\n",
        "</span>"
      ]
    },
    {
      "cell_type": "markdown",
      "metadata": {
        "id": "ZNI_xXDdBj6M"
      },
      "source": [
        "### <span style=\"color:DarkCyan;\"> How separated are the modalities? Does normalization affect the modality gap? Why does CLIP still perform well despite this gap?\n",
        "</span>"
      ]
    },
    {
      "cell_type": "markdown",
      "metadata": {
        "id": "6joVqKh0Bj6M"
      },
      "source": [
        "ANSWER = <span style=\"color: #D8BFD8;\"> ... </span>"
      ]
    },
    {
      "cell_type": "markdown",
      "metadata": {
        "id": "rjfklBaeBj6M"
      },
      "source": [
        "### <span style=\"color: HotPink;\"> 3. Bridging the Modality Gap\n",
        "</span>"
      ]
    },
    {
      "cell_type": "markdown",
      "metadata": {
        "id": "RfjMs32sBj6M"
      },
      "source": [
        "<span style=\"color: MediumPurple;\"> (a) One simple method to align modalities is the orthogonal Procrustes transform.\n",
        "Given two sets of embeddings $X$ (image features) and $Y$ (text features),\n",
        "the goal is to find an orthogonal matrix $R$ that minimizes:</span>\n",
        "$$\n",
        "\\color{MediumPurple}{\\min_{R} \\; \\| XR - Y \\|_{F},}\n",
        "$$\n",
        "<span style=\"color: MediumPurple;\">\n",
        "where\n",
        "</span>\n",
        "\n",
        "$\\| \\cdot \\|_{F}$\n",
        "\n",
        "<span style=\"color: MediumPurple;\">\n",
        "is the Frobenius norm.\n",
        "</span>\n",
        "<span style=\"color: MediumPurple;\">\n",
        "The closed-form solution involves singular value decomposition (SVD),\n",
        "but a library implementation will suffice for our case.\n",
        "</span>"
      ]
    },
    {
      "cell_type": "code",
      "source": [],
      "metadata": {
        "id": "F0HN_hT07HzR"
      },
      "execution_count": null,
      "outputs": []
    },
    {
      "cell_type": "markdown",
      "metadata": {
        "id": "yCkZbSf7Bj6M"
      },
      "source": [
        "<span style=\"color: MediumPurple;\"> (b) Pair STL-10 image embeddings with their corresponding text embeddings.\n",
        "</span>"
      ]
    },
    {
      "cell_type": "code",
      "source": [],
      "metadata": {
        "id": "jc83Wp447IcJ"
      },
      "execution_count": null,
      "outputs": []
    },
    {
      "cell_type": "markdown",
      "metadata": {
        "id": "rZUd-mDfBj6M"
      },
      "source": [
        "<span style=\"color: MediumPurple;\"> (c) Learn the optimal rotation matrix R using a library implementation of Procrustes alignment (hint: scipy.linalg.orthogonal procrustes or equivalent).\n",
        "</span>"
      ]
    },
    {
      "cell_type": "code",
      "source": [],
      "metadata": {
        "id": "mxyuZbQX7JgX"
      },
      "execution_count": null,
      "outputs": []
    },
    {
      "cell_type": "markdown",
      "metadata": {
        "id": "KPTgdrxwBj6M"
      },
      "source": [
        "<span style=\"color: MediumPurple;\"> (d) Apply the rotation transform to the CLIP embeddings.\n",
        "</span>"
      ]
    },
    {
      "cell_type": "code",
      "source": [],
      "metadata": {
        "id": "uv3KWYim7KZp"
      },
      "execution_count": null,
      "outputs": []
    },
    {
      "cell_type": "markdown",
      "metadata": {
        "id": "mPGedA2wBj6M"
      },
      "source": [
        "<span style=\"color: MediumPurple;\"> (e) Visualize the aligned embeddings with t-SNE or UMAP. How does the alignment affect the modality\n",
        "gap?\n",
        "</span>"
      ]
    },
    {
      "cell_type": "code",
      "source": [],
      "metadata": {
        "id": "i1iCg8Jq7LLJ"
      },
      "execution_count": null,
      "outputs": []
    },
    {
      "cell_type": "markdown",
      "metadata": {
        "id": "SjZY8ueiBj6M"
      },
      "source": [
        "<span style=\"color: MediumPurple;\"> (f) Recompute classification accuracy with the aligned embeddings and compare results with Part 0.\n",
        "</span>"
      ]
    },
    {
      "cell_type": "code",
      "source": [],
      "metadata": {
        "id": "IzQkTkAT7MQr"
      },
      "execution_count": null,
      "outputs": []
    }
  ],
  "metadata": {
    "colab": {
      "provenance": []
    },
    "kernelspec": {
      "display_name": "Python 3",
      "name": "python3"
    },
    "language_info": {
      "codemirror_mode": {
        "name": "ipython",
        "version": 3
      },
      "file_extension": ".py",
      "mimetype": "text/x-python",
      "name": "python",
      "nbconvert_exporter": "python",
      "pygments_lexer": "ipython3",
      "version": "3.13.2"
    }
  },
  "nbformat": 4,
  "nbformat_minor": 0
}