{
  "cells": [
    {
      "cell_type": "markdown",
      "metadata": {
        "id": "lL-c7jeFBj6G"
      },
      "source": [
        "# **<center> <span style=\"color: pink;\">ATML PA_0 </span>**"
      ]
    },
    {
      "cell_type": "markdown",
      "metadata": {
        "id": "jfTUMs1NBj6I"
      },
      "source": [
        "### <span style=\"color: DeepPink;\"> Name : Khadeeja Toseef </span>\n",
        "### <span style=\"color: DeepPink;\"> Roll Number : 27100309 </span>"
      ]
    },
    {
      "cell_type": "markdown",
      "metadata": {
        "id": "fKfO12ZcBj6J"
      },
      "source": [
        "## <center> <span style=\"color: pink;\">Task 5: Modality Gap in CLIP </span>"
      ]
    },
    {
      "cell_type": "markdown",
      "metadata": {
        "id": "fNEvHffoBj6J"
      },
      "source": [
        "### <span style=\"color: HotPink;\"> 1. Zero-Shot Classification on STL-10\n",
        "</span>"
      ]
    },
    {
      "cell_type": "markdown",
      "metadata": {
        "id": "38JLeHyiBj6J"
      },
      "source": [
        "<span style=\"color: MediumPurple;\"> (a) Download the STL-10 dataset from torchvision.\n",
        "</span>"
      ]
    },
    {
      "cell_type": "markdown",
      "metadata": {
        "id": "f_KuzKUCBj6K"
      },
      "source": [
        "<span style=\"color: #D8BFD8;\">importing libraries </span>"
      ]
    },
    {
      "cell_type": "code",
      "execution_count": 1,
      "metadata": {
        "colab": {
          "base_uri": "https://localhost:8080/"
        },
        "id": "kVTzY1dLIp8n",
        "outputId": "66a77b90-2e24-4a19-c1d4-fbbb66b32080"
      },
      "outputs": [
        {
          "name": "stdout",
          "output_type": "stream",
          "text": [
            "\u001b[33mWARNING: Skipping clip as it is not installed.\u001b[0m\u001b[33m\n",
            "\u001b[0mCollecting git+https://github.com/openai/CLIP.git\n",
            "  Cloning https://github.com/openai/CLIP.git to /tmp/pip-req-build-7ciw9zed\n",
            "  Running command git clone --filter=blob:none --quiet https://github.com/openai/CLIP.git /tmp/pip-req-build-7ciw9zed\n",
            "  Resolved https://github.com/openai/CLIP.git to commit dcba3cb2e2827b402d2701e7e1c7d9fed8a20ef1\n",
            "  Preparing metadata (setup.py) ... \u001b[?25l\u001b[?25hdone\n",
            "Collecting ftfy (from clip==1.0)\n",
            "  Downloading ftfy-6.3.1-py3-none-any.whl.metadata (7.3 kB)\n",
            "Requirement already satisfied: packaging in /usr/local/lib/python3.12/dist-packages (from clip==1.0) (25.0)\n",
            "Requirement already satisfied: regex in /usr/local/lib/python3.12/dist-packages (from clip==1.0) (2024.11.6)\n",
            "Requirement already satisfied: tqdm in /usr/local/lib/python3.12/dist-packages (from clip==1.0) (4.67.1)\n",
            "Requirement already satisfied: torch in /usr/local/lib/python3.12/dist-packages (from clip==1.0) (2.8.0+cu126)\n",
            "Requirement already satisfied: torchvision in /usr/local/lib/python3.12/dist-packages (from clip==1.0) (0.23.0+cu126)\n",
            "Requirement already satisfied: wcwidth in /usr/local/lib/python3.12/dist-packages (from ftfy->clip==1.0) (0.2.13)\n",
            "Requirement already satisfied: filelock in /usr/local/lib/python3.12/dist-packages (from torch->clip==1.0) (3.19.1)\n",
            "Requirement already satisfied: typing-extensions>=4.10.0 in /usr/local/lib/python3.12/dist-packages (from torch->clip==1.0) (4.15.0)\n",
            "Requirement already satisfied: setuptools in /usr/local/lib/python3.12/dist-packages (from torch->clip==1.0) (75.2.0)\n",
            "Requirement already satisfied: sympy>=1.13.3 in /usr/local/lib/python3.12/dist-packages (from torch->clip==1.0) (1.13.3)\n",
            "Requirement already satisfied: networkx in /usr/local/lib/python3.12/dist-packages (from torch->clip==1.0) (3.5)\n",
            "Requirement already satisfied: jinja2 in /usr/local/lib/python3.12/dist-packages (from torch->clip==1.0) (3.1.6)\n",
            "Requirement already satisfied: fsspec in /usr/local/lib/python3.12/dist-packages (from torch->clip==1.0) (2025.3.0)\n",
            "Requirement already satisfied: nvidia-cuda-nvrtc-cu12==12.6.77 in /usr/local/lib/python3.12/dist-packages (from torch->clip==1.0) (12.6.77)\n",
            "Requirement already satisfied: nvidia-cuda-runtime-cu12==12.6.77 in /usr/local/lib/python3.12/dist-packages (from torch->clip==1.0) (12.6.77)\n",
            "Requirement already satisfied: nvidia-cuda-cupti-cu12==12.6.80 in /usr/local/lib/python3.12/dist-packages (from torch->clip==1.0) (12.6.80)\n",
            "Requirement already satisfied: nvidia-cudnn-cu12==9.10.2.21 in /usr/local/lib/python3.12/dist-packages (from torch->clip==1.0) (9.10.2.21)\n",
            "Requirement already satisfied: nvidia-cublas-cu12==12.6.4.1 in /usr/local/lib/python3.12/dist-packages (from torch->clip==1.0) (12.6.4.1)\n",
            "Requirement already satisfied: nvidia-cufft-cu12==11.3.0.4 in /usr/local/lib/python3.12/dist-packages (from torch->clip==1.0) (11.3.0.4)\n",
            "Requirement already satisfied: nvidia-curand-cu12==10.3.7.77 in /usr/local/lib/python3.12/dist-packages (from torch->clip==1.0) (10.3.7.77)\n",
            "Requirement already satisfied: nvidia-cusolver-cu12==11.7.1.2 in /usr/local/lib/python3.12/dist-packages (from torch->clip==1.0) (11.7.1.2)\n",
            "Requirement already satisfied: nvidia-cusparse-cu12==12.5.4.2 in /usr/local/lib/python3.12/dist-packages (from torch->clip==1.0) (12.5.4.2)\n",
            "Requirement already satisfied: nvidia-cusparselt-cu12==0.7.1 in /usr/local/lib/python3.12/dist-packages (from torch->clip==1.0) (0.7.1)\n",
            "Requirement already satisfied: nvidia-nccl-cu12==2.27.3 in /usr/local/lib/python3.12/dist-packages (from torch->clip==1.0) (2.27.3)\n",
            "Requirement already satisfied: nvidia-nvtx-cu12==12.6.77 in /usr/local/lib/python3.12/dist-packages (from torch->clip==1.0) (12.6.77)\n",
            "Requirement already satisfied: nvidia-nvjitlink-cu12==12.6.85 in /usr/local/lib/python3.12/dist-packages (from torch->clip==1.0) (12.6.85)\n",
            "Requirement already satisfied: nvidia-cufile-cu12==1.11.1.6 in /usr/local/lib/python3.12/dist-packages (from torch->clip==1.0) (1.11.1.6)\n",
            "Requirement already satisfied: triton==3.4.0 in /usr/local/lib/python3.12/dist-packages (from torch->clip==1.0) (3.4.0)\n",
            "Requirement already satisfied: numpy in /usr/local/lib/python3.12/dist-packages (from torchvision->clip==1.0) (2.0.2)\n",
            "Requirement already satisfied: pillow!=8.3.*,>=5.3.0 in /usr/local/lib/python3.12/dist-packages (from torchvision->clip==1.0) (11.3.0)\n",
            "Requirement already satisfied: mpmath<1.4,>=1.1.0 in /usr/local/lib/python3.12/dist-packages (from sympy>=1.13.3->torch->clip==1.0) (1.3.0)\n",
            "Requirement already satisfied: MarkupSafe>=2.0 in /usr/local/lib/python3.12/dist-packages (from jinja2->torch->clip==1.0) (3.0.2)\n",
            "Downloading ftfy-6.3.1-py3-none-any.whl (44 kB)\n",
            "\u001b[2K   \u001b[90m━━━━━━━━━━━━━━━━━━━━━━━━━━━━━━━━━━━━━━━━\u001b[0m \u001b[32m44.8/44.8 kB\u001b[0m \u001b[31m4.0 MB/s\u001b[0m eta \u001b[36m0:00:00\u001b[0m\n",
            "\u001b[?25hBuilding wheels for collected packages: clip\n",
            "  Building wheel for clip (setup.py) ... \u001b[?25l\u001b[?25hdone\n",
            "  Created wheel for clip: filename=clip-1.0-py3-none-any.whl size=1369490 sha256=42b5d6e59611307b3008c6467a9c5fbb237c1ad70e3e564b4116e3b299c08489\n",
            "  Stored in directory: /tmp/pip-ephem-wheel-cache-zp5c7qiz/wheels/35/3e/df/3d24cbfb3b6a06f17a2bfd7d1138900d4365d9028aa8f6e92f\n",
            "Successfully built clip\n",
            "Installing collected packages: ftfy, clip\n",
            "Successfully installed clip-1.0 ftfy-6.3.1\n"
          ]
        }
      ],
      "source": [
        "# !pip install clip\n",
        "!pip uninstall -y clip\n",
        "!pip install git+https://github.com/openai/CLIP.git\n",
        "import os\n",
        "import umap\n",
        "import clip\n",
        "import torch\n",
        "import torchvision\n",
        "\n",
        "import numpy as np\n",
        "from sklearn.linear_model import LogisticRegression\n",
        "from torch.utils.data import DataLoader\n",
        "import matplotlib.pyplot as plt\n",
        "# import torchvision.transforms as transforms\n",
        "from torchvision.datasets import STL10\n",
        "from tqdm import tqdm\n",
        "# from torchvision.transforms import Compose, Resize, CenterCrop, ToTensor, Normalize"
      ]
    },
    {
      "cell_type": "code",
      "execution_count": 2,
      "metadata": {
        "colab": {
          "base_uri": "https://localhost:8080/"
        },
        "id": "b9yp0kl1R6WX",
        "outputId": "88410e40-8518-4442-9f85-043d8e628214"
      },
      "outputs": [
        {
          "name": "stdout",
          "output_type": "stream",
          "text": [
            "['__builtins__', '__cached__', '__doc__', '__file__', '__loader__', '__name__', '__package__', '__path__', '__spec__', 'available_models', 'clip', 'load', 'model', 'simple_tokenizer', 'tokenize']\n"
          ]
        }
      ],
      "source": [
        "print(dir(clip))"
      ]
    },
    {
      "cell_type": "code",
      "execution_count": 3,
      "metadata": {
        "colab": {
          "base_uri": "https://localhost:8080/"
        },
        "id": "l_AkRRtWBvRS",
        "outputId": "f33fbe8d-ce21-490f-fb1e-afed459ceaa3"
      },
      "outputs": [
        {
          "name": "stderr",
          "output_type": "stream",
          "text": [
            "100%|███████████████████████████████████████| 338M/338M [00:05<00:00, 68.2MiB/s]\n",
            "100%|██████████| 2.64G/2.64G [02:49<00:00, 15.6MB/s]\n"
          ]
        },
        {
          "name": "stdout",
          "output_type": "stream",
          "text": [
            "STL-10 dataset downloaded.\n"
          ]
        }
      ],
      "source": [
        "\n",
        "# Load CLIP preprocessing pipeline\n",
        "_, preprocess = clip.load(\"ViT-B/32\", device=\"cuda\" if torch.cuda.is_available() else \"cpu\")\n",
        "\n",
        "trainset = torchvision.datasets.STL10(root='./data', split='train', download=True, transform=preprocess)\n",
        "testset = torchvision.datasets.STL10(root='./data', split='test', download=True, transform=preprocess)\n",
        "\n",
        "dataloader = DataLoader(testset, batch_size=64, shuffle=False, num_workers=2)\n",
        "\n",
        "print(\"STL-10 dataset downloaded.\")"
      ]
    },
    {
      "cell_type": "markdown",
      "metadata": {
        "id": "emZvKlXwBj6K"
      },
      "source": [
        "<span style=\"color: MediumPurple;\"> (b) Load OpenAI’s CLIP model from the official implementation of clip.\n",
        "</span>"
      ]
    },
    {
      "cell_type": "code",
      "execution_count": 4,
      "metadata": {
        "id": "nXDJO1SSIwUb"
      },
      "outputs": [],
      "source": [
        "device = \"cuda\" if torch.cuda.is_available() else \"cpu\"\n",
        "model, preprocess = clip.load(\"ViT-B/32\", device=device)"
      ]
    },
    {
      "cell_type": "code",
      "execution_count": 5,
      "metadata": {
        "id": "tKCYNklvI38r"
      },
      "outputs": [],
      "source": [
        "classnames = ['airplane', 'bird', 'car', 'cat', 'deer', 'dog', 'horse', 'monkey', 'ship', 'truck']"
      ]
    },
    {
      "cell_type": "markdown",
      "metadata": {
        "id": "48mS0b7QBj6L"
      },
      "source": [
        "<span style=\"color: MediumPurple;\"> (c) Evaluate clip for zero-shot accuracy on STL-10 using different prompting techniques:\n",
        "</span>   "
      ]
    },
    {
      "cell_type": "markdown",
      "metadata": {
        "id": "EUYwgkJoFoBm"
      },
      "source": [
        "<span style=\"color: MediumPurple;\"> i. Plain labels (e.g., “cat”).\n",
        "</span>  "
      ]
    },
    {
      "cell_type": "code",
      "execution_count": 6,
      "metadata": {
        "colab": {
          "base_uri": "https://localhost:8080/"
        },
        "id": "Obfa4sUPF3VS",
        "outputId": "629c61ad-d196-4ce5-a652-0d1bf9d9480d"
      },
      "outputs": [
        {
          "name": "stdout",
          "output_type": "stream",
          "text": [
            "\n",
            "Evaluating Zero-Shot Accuracy on STL-10 (Plain Prompts)...\n"
          ]
        },
        {
          "name": "stderr",
          "output_type": "stream",
          "text": [
            "100%|██████████| 125/125 [00:20<00:00,  6.19it/s]"
          ]
        },
        {
          "name": "stdout",
          "output_type": "stream",
          "text": [
            "\n",
            "Zero-Shot Accuracy with Plain Labels: 96.26%\n"
          ]
        },
        {
          "name": "stderr",
          "output_type": "stream",
          "text": [
            "\n"
          ]
        }
      ],
      "source": [
        "plain_text_prompts = classnames\n",
        "\n",
        "# tokenize prompts\n",
        "text_inputs = torch.cat([clip.tokenize(label) for label in plain_text_prompts]).to(device)\n",
        "\n",
        "# encode prompted text features\n",
        "with torch.no_grad():\n",
        "    text_features = model.encode_text(text_inputs)\n",
        "    text_features /= text_features.norm(dim=-1, keepdim=True)  # normalize\n",
        "\n",
        "# evaluate zero-shot classification with prompted text\n",
        "correct = 0\n",
        "total = 0\n",
        "\n",
        "print(\"\\nEvaluating Zero-Shot Accuracy on STL-10 (Plain Prompts)...\")\n",
        "\n",
        "with torch.no_grad():\n",
        "    for images, labels in tqdm(dataloader):\n",
        "        images = images.to(device)\n",
        "        labels = labels.to(device)\n",
        "\n",
        "        # encode image features\n",
        "        image_features = model.encode_image(images)\n",
        "        image_features /= image_features.norm(dim=-1, keepdim=True)\n",
        "\n",
        "        # compute similarity (cosine) between image and text features\n",
        "        similarity = (100.0 * image_features @ text_features.T)  # shape: [batch_size, num_classes]\n",
        "        predictions = similarity.argmax(dim=1)\n",
        "\n",
        "        correct += (predictions == labels).sum().item()\n",
        "        total += labels.size(0)\n",
        "\n",
        "# Final accuracy\n",
        "accuracy = 100 * correct / total\n",
        "print(f\"\\nZero-Shot Accuracy with Plain Labels: {accuracy:.2f}%\")\n"
      ]
    },
    {
      "cell_type": "markdown",
      "metadata": {
        "id": "YkX4-5qkFnhE"
      },
      "source": [
        "<span style=\"color: MediumPurple;\"> ii. Prompted text (e.g., “a photo of a cat”).\n",
        "</span>   "
      ]
    },
    {
      "cell_type": "code",
      "execution_count": 7,
      "metadata": {
        "colab": {
          "base_uri": "https://localhost:8080/"
        },
        "id": "ipAdoBX-F4P4",
        "outputId": "eeabcec9-49ed-4d41-e52a-2c689ebd752f"
      },
      "outputs": [
        {
          "name": "stdout",
          "output_type": "stream",
          "text": [
            "\n",
            "Evaluating Zero-Shot Accuracy on STL-10 (Prompted Text: 'a photo of a <label>')...\n"
          ]
        },
        {
          "name": "stderr",
          "output_type": "stream",
          "text": [
            "100%|██████████| 125/125 [00:19<00:00,  6.55it/s]"
          ]
        },
        {
          "name": "stdout",
          "output_type": "stream",
          "text": [
            "\n",
            "Zero-Shot Accuracy with Prompted Text ('a photo of a <label>'): 97.36%\n"
          ]
        },
        {
          "name": "stderr",
          "output_type": "stream",
          "text": [
            "\n"
          ]
        }
      ],
      "source": [
        "prompted_text_prompts = [f\"a photo of a {label}\" for label in classnames]\n",
        "\n",
        "# tokenize prompts\n",
        "text_inputs_prompted = torch.cat([clip.tokenize(p) for p in prompted_text_prompts]).to(device)\n",
        "\n",
        "# encode prompted text features\n",
        "with torch.no_grad():\n",
        "    text_features_prompted = model.encode_text(text_inputs_prompted)\n",
        "    text_features_prompted /= text_features_prompted.norm(dim=-1, keepdim=True)\n",
        "\n",
        "# evaluate zero-shot classification with prompted text\n",
        "correct_prompted = 0\n",
        "total_prompted = 0\n",
        "\n",
        "print(\"\\nEvaluating Zero-Shot Accuracy on STL-10 (Prompted Text: 'a photo of a <label>')...\")\n",
        "\n",
        "with torch.no_grad():\n",
        "    for images, labels in tqdm(dataloader):\n",
        "        images = images.to(device)\n",
        "        labels = labels.to(device)\n",
        "\n",
        "        image_features = model.encode_image(images)\n",
        "        image_features /= image_features.norm(dim=-1, keepdim=True)\n",
        "\n",
        "        similarity = (100.0 * image_features @ text_features_prompted.T)\n",
        "        predictions = similarity.argmax(dim=1)\n",
        "\n",
        "        correct_prompted += (predictions == labels).sum().item()\n",
        "        total_prompted += labels.size(0)\n",
        "\n",
        "accuracy_prompted = 100 * correct_prompted / total_prompted\n",
        "print(f\"\\nZero-Shot Accuracy with Prompted Text ('a photo of a <label>'): {accuracy_prompted:.2f}%\")\n"
      ]
    },
    {
      "cell_type": "markdown",
      "metadata": {
        "id": "qO2kHO5aFnSO"
      },
      "source": [
        "<span style=\"color: MediumPurple;\"> iii. More descriptive variants of prompts.\n",
        "</span>"
      ]
    },
    {
      "cell_type": "code",
      "execution_count": 8,
      "metadata": {
        "colab": {
          "base_uri": "https://localhost:8080/"
        },
        "id": "i-0mWqThF4zC",
        "outputId": "f2adda42-e1fc-49da-db71-8a41b6c2b953"
      },
      "outputs": [
        {
          "name": "stdout",
          "output_type": "stream",
          "text": [
            "\n",
            "Evaluating Zero-Shot Accuracy on STL-10 (Descriptive Prompts)...\n"
          ]
        },
        {
          "name": "stderr",
          "output_type": "stream",
          "text": [
            "100%|██████████| 125/125 [00:17<00:00,  6.98it/s]"
          ]
        },
        {
          "name": "stdout",
          "output_type": "stream",
          "text": [
            "\n",
            "Zero-Shot Accuracy with Descriptive Prompts: 96.25%\n"
          ]
        },
        {
          "name": "stderr",
          "output_type": "stream",
          "text": [
            "\n"
          ]
        }
      ],
      "source": [
        "# ----------- (iii) More Descriptive Prompts -----------\n",
        "descriptive_prompts = [f\"a high-resolution photo of a cute {label} in nature\" for label in classnames]\n",
        "\n",
        "# Tokenize descriptive prompts\n",
        "text_inputs_desc = torch.cat([clip.tokenize(p) for p in descriptive_prompts]).to(device)\n",
        "\n",
        "# Encode text features for descriptive prompts\n",
        "with torch.no_grad():\n",
        "    text_features_desc = model.encode_text(text_inputs_desc)\n",
        "    text_features_desc /= text_features_desc.norm(dim=-1, keepdim=True)\n",
        "\n",
        "# Evaluate with descriptive prompts\n",
        "correct_desc = 0\n",
        "total_desc = 0\n",
        "\n",
        "print(\"\\nEvaluating Zero-Shot Accuracy on STL-10 (Descriptive Prompts)...\")\n",
        "\n",
        "with torch.no_grad():\n",
        "    for images, labels in tqdm(dataloader):\n",
        "        images = images.to(device)\n",
        "        labels = labels.to(device)\n",
        "\n",
        "        image_features = model.encode_image(images)\n",
        "        image_features /= image_features.norm(dim=-1, keepdim=True)\n",
        "\n",
        "        similarity = (100.0 * image_features @ text_features_desc.T)\n",
        "        predictions = similarity.argmax(dim=1)\n",
        "\n",
        "        correct_desc += (predictions == labels).sum().item()\n",
        "        total_desc += labels.size(0)\n",
        "\n",
        "accuracy_desc = 100 * correct_desc / total_desc\n",
        "print(f\"\\nZero-Shot Accuracy with Descriptive Prompts: {accuracy_desc:.2f}%\")\n"
      ]
    },
    {
      "cell_type": "markdown",
      "metadata": {
        "id": "XHNZ0O3rBj6L"
      },
      "source": [
        "<span style=\"color: MediumPurple;\"> (d) You can experiment with the prompts on a small subset. However, you are to compare accuracies across atleast 3 different prompting strategies for the whole test set\n",
        "</span>"
      ]
    },
    {
      "cell_type": "code",
      "execution_count": 9,
      "metadata": {
        "colab": {
          "base_uri": "https://localhost:8080/"
        },
        "id": "vhFrb-d_N3MI",
        "outputId": "139abf7f-6e76-4777-dff8-4bb32671321a"
      },
      "outputs": [
        {
          "name": "stdout",
          "output_type": "stream",
          "text": [
            "\n",
            "==== Zero-Shot Accuracy Comparison on STL-10 ====\n",
            "Plain labels           : 96.26%\n",
            "Prompted ('a photo of'): 97.36%\n",
            "Descriptive prompts    : 96.25%\n"
          ]
        }
      ],
      "source": [
        "print(\"\\n==== Zero-Shot Accuracy Comparison on STL-10 ====\")\n",
        "print(f\"Plain labels           : {accuracy:.2f}%\")\n",
        "print(f\"Prompted ('a photo of'): {accuracy_prompted:.2f}%\")\n",
        "print(f\"Descriptive prompts    : {accuracy_desc:.2f}%\")"
      ]
    },
    {
      "cell_type": "markdown",
      "metadata": {
        "id": "OEqcytLSBj6L"
      },
      "source": [
        "### <span style=\"color: HotPink;\"> 2. Exploring the Modality Gap\n",
        "</span>"
      ]
    },
    {
      "cell_type": "markdown",
      "metadata": {
        "id": "jpWW-RacBj6L"
      },
      "source": [
        "<span style=\"color: MediumPurple;\"> (a) Use the vision and text model within CLIP to extract image and label embeddings from CLIP for a few (50-100) STL-10 samples.\n",
        "</span>"
      ]
    },
    {
      "cell_type": "code",
      "execution_count": 10,
      "metadata": {
        "colab": {
          "base_uri": "https://localhost:8080/"
        },
        "id": "NB9f9M7HXVPM",
        "outputId": "9c4e3bae-ba98-4a16-ac70-202ee48b058c"
      },
      "outputs": [
        {
          "name": "stdout",
          "output_type": "stream",
          "text": [
            "\n",
            "Extracting image embeddings for 100 samples...\n"
          ]
        },
        {
          "name": "stderr",
          "output_type": "stream",
          "text": [
            "100%|██████████| 4/4 [00:00<00:00,  8.85it/s]"
          ]
        },
        {
          "name": "stdout",
          "output_type": "stream",
          "text": [
            "Image and text embeddings extracted.\n"
          ]
        },
        {
          "name": "stderr",
          "output_type": "stream",
          "text": [
            "\n"
          ]
        }
      ],
      "source": [
        "# Extract image and text embeddings for a subset of STL-10 samples\n",
        "\n",
        "num_samples = 100  # Number of samples to use\n",
        "subset_indices = np.random.choice(len(testset), num_samples, replace=False)\n",
        "subset_testset = torch.utils.data.Subset(testset, subset_indices)\n",
        "subset_dataloader = DataLoader(subset_testset, batch_size=32, shuffle=False, num_workers=2)\n",
        "\n",
        "image_embeddings = []\n",
        "labels_list = []\n",
        "\n",
        "print(f\"\\nExtracting image embeddings for {num_samples} samples...\")\n",
        "with torch.no_grad():\n",
        "    for images, labels in tqdm(subset_dataloader):\n",
        "        images = images.to(device)\n",
        "        image_features = model.encode_image(images)\n",
        "        image_features /= image_features.norm(dim=-1, keepdim=True)\n",
        "        image_embeddings.append(image_features.cpu())\n",
        "        labels_list.append(labels.cpu())\n",
        "\n",
        "image_embeddings = torch.cat(image_embeddings)\n",
        "labels_list = torch.cat(labels_list)\n",
        "\n",
        "# Extract text embeddings for class names\n",
        "text_inputs = torch.cat([clip.tokenize(label) for label in classnames]).to(device)\n",
        "with torch.no_grad():\n",
        "    text_embeddings = model.encode_text(text_inputs)\n",
        "    text_embeddings /= text_embeddings.norm(dim=-1, keepdim=True)\n",
        "\n",
        "print(\"Image and text embeddings extracted.\")"
      ]
    },
    {
      "cell_type": "markdown",
      "metadata": {
        "id": "2x06qxOHBj6M"
      },
      "source": [
        "<span style=\"color: MediumPurple;\"> (b) Use dimensionality reduction techniques such as UMAP or t-SNE to project the embeddings into 2D space.\n",
        "</span>"
      ]
    },
    {
      "cell_type": "code",
      "execution_count": 11,
      "metadata": {
        "colab": {
          "base_uri": "https://localhost:8080/"
        },
        "id": "_UvJXQ7NYaoP",
        "outputId": "84b2ff04-5bfc-4058-b4e2-2c2f13dfc8bc"
      },
      "outputs": [
        {
          "name": "stderr",
          "output_type": "stream",
          "text": [
            "/usr/local/lib/python3.12/dist-packages/umap/umap_.py:1952: UserWarning: n_jobs value 1 overridden to 1 by setting random_state. Use no seed for parallelism.\n",
            "  warn(\n"
          ]
        }
      ],
      "source": [
        "# Concatenate image and text embeddings for dimensionality reduction\n",
        "all_embeddings = torch.cat([image_embeddings, text_embeddings.cpu()]) # Move text_embeddings to CPU\n",
        "all_labels = torch.cat([labels_list, torch.arange(len(classnames)) + len(torch.unique(labels_list))]) # Assign unique labels to text embeddings\n",
        "\n",
        "# Apply UMAP for dimensionality reduction\n",
        "reducer = umap.UMAP(n_components=2, random_state=42)\n",
        "reduced_embeddings = reducer.fit_transform(all_embeddings)\n",
        "\n",
        "# Separate reduced embeddings\n",
        "reduced_image_embeddings = reduced_embeddings[:len(image_embeddings)]\n",
        "reduced_text_embeddings = reduced_embeddings[len(image_embeddings):]"
      ]
    },
    {
      "cell_type": "markdown",
      "metadata": {
        "id": "LxKibV1HBj6M"
      },
      "source": [
        "<span style=\"color: MediumPurple;\"> (c) Visualize and compare the distributions of text and image embeddings.\n",
        "</span>"
      ]
    },
    {
      "cell_type": "code",
      "execution_count": 12,
      "metadata": {
        "colab": {
          "base_uri": "https://localhost:8080/",
          "height": 718
        },
        "id": "OnclJ7RZx_6C",
        "outputId": "3cf4a283-07b5-460d-9b92-ee5ad812304c"
      },
      "outputs": [
        {
          "data": {
            "image/png": "[encoded data removed]",
            "text/plain": [
              "<Figure size 1200x800 with 1 Axes>"
            ]
          },
          "metadata": {},
          "output_type": "display_data"
        }
      ],
      "source": [
        "# Visualize the reduced embeddings\n",
        "plt.figure(figsize=(12, 8))\n",
        "\n",
        "# Plot image embeddings, colored by their class\n",
        "scatter_image = plt.scatter(reduced_image_embeddings[:, 0], reduced_image_embeddings[:, 1],\n",
        "                            c=labels_list, cmap='tab10', label='Image Embeddings', alpha=0.6)\n",
        "\n",
        "# Plot text embeddings with distinct markers\n",
        "scatter_text = plt.scatter(reduced_text_embeddings[:, 0], reduced_text_embeddings[:, 1],\n",
        "                           marker='*', s=200, color='black', label='Text Embeddings')\n",
        "\n",
        "# Add class names next to text embeddings\n",
        "for i, label in enumerate(classnames):\n",
        "    plt.text(reduced_text_embeddings[i, 0], reduced_text_embeddings[i, 1], label, fontsize=12)\n",
        "\n",
        "plt.title('UMAP Projection of Image and Text Embeddings')\n",
        "plt.xlabel('UMAP Component 1')\n",
        "plt.ylabel('UMAP Component 2')\n",
        "plt.legend()\n",
        "plt.grid(True)\n",
        "plt.show()"
      ]
    },
    {
      "cell_type": "markdown",
      "metadata": {
        "id": "MlfuLVKWBj6M"
      },
      "source": [
        "<span style=\"color: MediumPurple;\"> (d) Briefly explain your findings:\n",
        "</span>"
      ]
    },
    {
      "cell_type": "markdown",
      "metadata": {
        "id": "ZNI_xXDdBj6M"
      },
      "source": [
        "### <span style=\"color:DarkCyan;\"> How separated are the modalities? Does normalization affect the modality gap? Why does CLIP still perform well despite this gap?\n",
        "</span>"
      ]
    },
    {
      "cell_type": "markdown",
      "metadata": {
        "id": "6joVqKh0Bj6M"
      },
      "source": [
        "ANSWER = <span style=\"color: #D8BFD8;\"> The UMAP projection highlights a clear separation between image and text embeddings, with text representations forming a compact cluster and image representations distributed into distinct groups. This separation reflects the presence of a modality gap, wherein embeddings from different modalities occupy different regions of the reduced space. However, this gap is partly an artifact of dimensionality reduction and the lack of normalization. When embeddings are L2-normalized, as is standard in CLIP, both modalities are projected onto the same hypersphere, effectively reducing this gap in the similarity space. CLIP remains effective despite the apparent separation because its training objective explicitly optimizes for paired image–text alignment using cosine similarity. As a result, even if UMAP suggests divergence in raw coordinates, the embeddings of semantically matched images and texts are still well aligned in the high-dimensional normalized space, enabling strong zero-shot and cross-modal retrieval performance.\n",
        "</span>"
      ]
    },
    {
      "cell_type": "markdown",
      "metadata": {
        "id": "rjfklBaeBj6M"
      },
      "source": [
        "### <span style=\"color: HotPink;\"> 3. Bridging the Modality Gap\n",
        "</span>"
      ]
    },
    {
      "cell_type": "markdown",
      "metadata": {
        "id": "RfjMs32sBj6M"
      },
      "source": [
        "<span style=\"color: MediumPurple;\"> (a) One simple method to align modalities is the orthogonal Procrustes transform.\n",
        "Given two sets of embeddings $X$ (image features) and $Y$ (text features),\n",
        "the goal is to find an orthogonal matrix $R$ that minimizes:</span>\n",
        "$$\n",
        "\\color{MediumPurple}{\\min_{R} \\; \\| XR - Y \\|_{F},}\n",
        "$$\n",
        "<span style=\"color: MediumPurple;\">\n",
        "where\n",
        "</span>\n",
        "\n",
        "$\\| \\cdot \\|_{F}$\n",
        "\n",
        "<span style=\"color: MediumPurple;\">\n",
        "is the Frobenius norm.\n",
        "</span>\n",
        "<span style=\"color: MediumPurple;\">\n",
        "The closed-form solution involves singular value decomposition (SVD),\n",
        "but a library implementation will suffice for our case.\n",
        "</span>"
      ]
    },
    {
      "cell_type": "code",
      "execution_count": 13,
      "metadata": {
        "id": "F0HN_hT07HzR"
      },
      "outputs": [],
      "source": [
        "from scipy.linalg import orthogonal_procrustes"
      ]
    },
    {
      "cell_type": "markdown",
      "metadata": {
        "id": "yCkZbSf7Bj6M"
      },
      "source": [
        "<span style=\"color: MediumPurple;\"> (b) Pair STL-10 image embeddings with their corresponding text embeddings.\n",
        "</span>"
      ]
    },
    {
      "cell_type": "code",
      "execution_count": 14,
      "metadata": {
        "id": "jc83Wp447IcJ"
      },
      "outputs": [],
      "source": [
        "# text embeddings corresponding to each image label\n",
        "paired_text_embeddings = text_embeddings[labels_list]"
      ]
    },
    {
      "cell_type": "markdown",
      "metadata": {
        "id": "rZUd-mDfBj6M"
      },
      "source": [
        "<span style=\"color: MediumPurple;\"> (c) Learn the optimal rotation matrix R using a library implementation of Procrustes alignment (hint: scipy.linalg.orthogonal procrustes or equivalent).\n",
        "</span>"
      ]
    },
    {
      "cell_type": "code",
      "execution_count": 15,
      "metadata": {
        "id": "mxyuZbQX7JgX"
      },
      "outputs": [],
      "source": [
        "R, _ = orthogonal_procrustes(image_embeddings.cpu().numpy(), paired_text_embeddings.cpu().numpy())"
      ]
    },
    {
      "cell_type": "markdown",
      "metadata": {
        "id": "KPTgdrxwBj6M"
      },
      "source": [
        "<span style=\"color: MediumPurple;\"> (d) Apply the rotation transform to the CLIP embeddings.\n",
        "</span>"
      ]
    },
    {
      "cell_type": "code",
      "execution_count": 16,
      "metadata": {
        "id": "uv3KWYim7KZp"
      },
      "outputs": [],
      "source": [
        "aligned_image_embeddings = torch.tensor(image_embeddings.numpy() @ R).float()"
      ]
    },
    {
      "cell_type": "markdown",
      "metadata": {
        "id": "mPGedA2wBj6M"
      },
      "source": [
        "<span style=\"color: MediumPurple;\"> (e) Visualize the aligned embeddings with t-SNE or UMAP. How does the alignment affect the modality\n",
        "gap?\n",
        "</span>"
      ]
    },
    {
      "cell_type": "code",
      "execution_count": 17,
      "metadata": {
        "colab": {
          "base_uri": "https://localhost:8080/",
          "height": 657
        },
        "id": "i1iCg8Jq7LLJ",
        "outputId": "879cf1fb-7d31-41a2-bd75-85a3130ba5c1"
      },
      "outputs": [
        {
          "name": "stderr",
          "output_type": "stream",
          "text": [
            "/usr/local/lib/python3.12/dist-packages/umap/umap_.py:1952: UserWarning: n_jobs value 1 overridden to 1 by setting random_state. Use no seed for parallelism.\n",
            "  warn(\n"
          ]
        },
        {
          "data": {
            "image/png": "[encoded data removed]",
            "text/plain": [
              "<Figure size 1000x700 with 1 Axes>"
            ]
          },
          "metadata": {},
          "output_type": "display_data"
        }
      ],
      "source": [
        "all_aligned = torch.cat([aligned_image_embeddings, text_embeddings.cpu()])\n",
        "\n",
        "reduced_aligned = umap.UMAP(n_components=2, random_state=42).fit_transform(all_aligned)\n",
        "\n",
        "plt.figure(figsize=(10, 7))\n",
        "plt.scatter(reduced_aligned[:len(aligned_image_embeddings), 0], reduced_aligned[:len(aligned_image_embeddings), 1],\n",
        "            c=labels_list, cmap='tab10', alpha=0.6, label='Aligned Image Embeddings')\n",
        "plt.scatter(reduced_aligned[len(aligned_image_embeddings):, 0], reduced_aligned[len(aligned_image_embeddings):, 1],\n",
        "            marker='*', s=200, color='black', label='Text Embeddings')\n",
        "\n",
        "for i, label in enumerate(classnames):\n",
        "    plt.text(reduced_aligned[len(aligned_image_embeddings)+i, 0],\n",
        "             reduced_aligned[len(aligned_image_embeddings)+i, 1], label, fontsize=12)\n",
        "\n",
        "plt.title('UMAP Projection after Procrustes Alignment')\n",
        "plt.legend()\n",
        "plt.show()\n"
      ]
    },
    {
      "cell_type": "markdown",
      "metadata": {
        "id": "SjZY8ueiBj6M"
      },
      "source": [
        "<span style=\"color: MediumPurple;\"> (f) Recompute classification accuracy with the aligned embeddings and compare results with Part 0.\n",
        "</span>"
      ]
    },
    {
      "cell_type": "code",
      "execution_count": 18,
      "metadata": {
        "colab": {
          "base_uri": "https://localhost:8080/"
        },
        "id": "IzQkTkAT7MQr",
        "outputId": "e8a70b8e-7a2e-4a18-8de3-cf7a38b8117f"
      },
      "outputs": [
        {
          "name": "stderr",
          "output_type": "stream",
          "text": [
            "  1%|          | 1/125 [00:00<01:49,  1.14it/s]"
          ]
        },
        {
          "name": "stdout",
          "output_type": "stream",
          "text": [
            "torch.float32 torch.float32\n"
          ]
        },
        {
          "name": "stderr",
          "output_type": "stream",
          "text": [
            "\r  2%|▏         | 2/125 [00:01<00:57,  2.14it/s]"
          ]
        },
        {
          "name": "stdout",
          "output_type": "stream",
          "text": [
            "torch.float32 torch.float32\n"
          ]
        },
        {
          "name": "stderr",
          "output_type": "stream",
          "text": [
            "  3%|▎         | 4/125 [00:01<00:36,  3.35it/s]"
          ]
        },
        {
          "name": "stdout",
          "output_type": "stream",
          "text": [
            "torch.float32 torch.float32\n",
            "torch.float32 torch.float32\n"
          ]
        },
        {
          "name": "stderr",
          "output_type": "stream",
          "text": [
            "  5%|▍         | 6/125 [00:02<00:31,  3.72it/s]"
          ]
        },
        {
          "name": "stdout",
          "output_type": "stream",
          "text": [
            "torch.float32 torch.float32\n",
            "torch.float32 torch.float32\n"
          ]
        },
        {
          "name": "stderr",
          "output_type": "stream",
          "text": [
            "  6%|▋         | 8/125 [00:02<00:24,  4.75it/s]"
          ]
        },
        {
          "name": "stdout",
          "output_type": "stream",
          "text": [
            "torch.float32 torch.float32\n",
            "torch.float32 torch.float32\n"
          ]
        },
        {
          "name": "stderr",
          "output_type": "stream",
          "text": [
            "\r  7%|▋         | 9/125 [00:02<00:25,  4.49it/s]"
          ]
        },
        {
          "name": "stdout",
          "output_type": "stream",
          "text": [
            "torch.float32 torch.float32\n",
            "torch.float32 torch.float32\n"
          ]
        },
        {
          "name": "stderr",
          "output_type": "stream",
          "text": [
            " 10%|▉         | 12/125 [00:03<00:19,  5.79it/s]"
          ]
        },
        {
          "name": "stdout",
          "output_type": "stream",
          "text": [
            "torch.float32 torch.float32\n",
            "torch.float32 torch.float32\n"
          ]
        },
        {
          "name": "stderr",
          "output_type": "stream",
          "text": [
            " 11%|█         | 14/125 [00:03<00:17,  6.18it/s]"
          ]
        },
        {
          "name": "stdout",
          "output_type": "stream",
          "text": [
            "torch.float32 torch.float32\n",
            "torch.float32 torch.float32\n"
          ]
        },
        {
          "name": "stderr",
          "output_type": "stream",
          "text": [
            " 13%|█▎        | 16/125 [00:03<00:18,  5.96it/s]"
          ]
        },
        {
          "name": "stdout",
          "output_type": "stream",
          "text": [
            "torch.float32 torch.float32\n",
            "torch.float32 torch.float32\n"
          ]
        },
        {
          "name": "stderr",
          "output_type": "stream",
          "text": [
            " 14%|█▍        | 18/125 [00:04<00:18,  5.65it/s]"
          ]
        },
        {
          "name": "stdout",
          "output_type": "stream",
          "text": [
            "torch.float32 torch.float32\n",
            "torch.float32 torch.float32\n"
          ]
        },
        {
          "name": "stderr",
          "output_type": "stream",
          "text": [
            " 16%|█▌        | 20/125 [00:04<00:17,  6.09it/s]"
          ]
        },
        {
          "name": "stdout",
          "output_type": "stream",
          "text": [
            "torch.float32 torch.float32\n",
            "torch.float32 torch.float32\n"
          ]
        },
        {
          "name": "stderr",
          "output_type": "stream",
          "text": [
            " 18%|█▊        | 22/125 [00:04<00:17,  5.99it/s]"
          ]
        },
        {
          "name": "stdout",
          "output_type": "stream",
          "text": [
            "torch.float32 torch.float32\n",
            "torch.float32 torch.float32\n"
          ]
        },
        {
          "name": "stderr",
          "output_type": "stream",
          "text": [
            "\r 18%|█▊        | 23/125 [00:05<00:18,  5.42it/s]"
          ]
        },
        {
          "name": "stdout",
          "output_type": "stream",
          "text": [
            "torch.float32 torch.float32\n",
            "torch.float32 torch.float32\n"
          ]
        },
        {
          "name": "stderr",
          "output_type": "stream",
          "text": [
            "\r 20%|██        | 25/125 [00:05<00:18,  5.53it/s]"
          ]
        },
        {
          "name": "stdout",
          "output_type": "stream",
          "text": [
            "torch.float32 torch.float32\n",
            "torch.float32 torch.float32\n"
          ]
        },
        {
          "name": "stderr",
          "output_type": "stream",
          "text": [
            " 22%|██▏       | 28/125 [00:05<00:15,  6.24it/s]"
          ]
        },
        {
          "name": "stdout",
          "output_type": "stream",
          "text": [
            "torch.float32 torch.float32\n",
            "torch.float32 torch.float32\n"
          ]
        },
        {
          "name": "stderr",
          "output_type": "stream",
          "text": [
            " 24%|██▍       | 30/125 [00:06<00:16,  5.83it/s]"
          ]
        },
        {
          "name": "stdout",
          "output_type": "stream",
          "text": [
            "torch.float32 torch.float32\n",
            "torch.float32 torch.float32\n"
          ]
        },
        {
          "name": "stderr",
          "output_type": "stream",
          "text": [
            " 26%|██▌       | 32/125 [00:06<00:14,  6.28it/s]"
          ]
        },
        {
          "name": "stdout",
          "output_type": "stream",
          "text": [
            "torch.float32 torch.float32\n",
            "torch.float32 torch.float32\n"
          ]
        },
        {
          "name": "stderr",
          "output_type": "stream",
          "text": [
            "\r 26%|██▋       | 33/125 [00:06<00:16,  5.71it/s]"
          ]
        },
        {
          "name": "stdout",
          "output_type": "stream",
          "text": [
            "torch.float32 torch.float32\n",
            "torch.float32 torch.float32\n"
          ]
        },
        {
          "name": "stderr",
          "output_type": "stream",
          "text": [
            " 29%|██▉       | 36/125 [00:07<00:13,  6.41it/s]"
          ]
        },
        {
          "name": "stdout",
          "output_type": "stream",
          "text": [
            "torch.float32 torch.float32\n",
            "torch.float32 torch.float32\n"
          ]
        },
        {
          "name": "stderr",
          "output_type": "stream",
          "text": [
            "\r 30%|██▉       | 37/125 [00:07<00:14,  5.89it/s]"
          ]
        },
        {
          "name": "stdout",
          "output_type": "stream",
          "text": [
            "torch.float32 torch.float32\n",
            "torch.float32 torch.float32\n"
          ]
        },
        {
          "name": "stderr",
          "output_type": "stream",
          "text": [
            " 32%|███▏      | 40/125 [00:07<00:12,  6.63it/s]"
          ]
        },
        {
          "name": "stdout",
          "output_type": "stream",
          "text": [
            "torch.float32 torch.float32\n",
            "torch.float32 torch.float32\n"
          ]
        },
        {
          "name": "stderr",
          "output_type": "stream",
          "text": [
            "\r 33%|███▎      | 41/125 [00:08<00:14,  5.88it/s]"
          ]
        },
        {
          "name": "stdout",
          "output_type": "stream",
          "text": [
            "torch.float32 torch.float32\n",
            "torch.float32 torch.float32\n"
          ]
        },
        {
          "name": "stderr",
          "output_type": "stream",
          "text": [
            " 35%|███▌      | 44/125 [00:08<00:12,  6.30it/s]"
          ]
        },
        {
          "name": "stdout",
          "output_type": "stream",
          "text": [
            "torch.float32 torch.float32\n",
            "torch.float32 torch.float32\n"
          ]
        },
        {
          "name": "stderr",
          "output_type": "stream",
          "text": [
            " 37%|███▋      | 46/125 [00:08<00:13,  5.81it/s]"
          ]
        },
        {
          "name": "stdout",
          "output_type": "stream",
          "text": [
            "torch.float32 torch.float32\n",
            "torch.float32 torch.float32\n"
          ]
        },
        {
          "name": "stderr",
          "output_type": "stream",
          "text": [
            " 38%|███▊      | 48/125 [00:09<00:13,  5.91it/s]"
          ]
        },
        {
          "name": "stdout",
          "output_type": "stream",
          "text": [
            "torch.float32 torch.float32\n",
            "torch.float32 torch.float32\n"
          ]
        },
        {
          "name": "stderr",
          "output_type": "stream",
          "text": [
            " 40%|████      | 50/125 [00:09<00:13,  5.77it/s]"
          ]
        },
        {
          "name": "stdout",
          "output_type": "stream",
          "text": [
            "torch.float32 torch.float32\n",
            "torch.float32 torch.float32\n"
          ]
        },
        {
          "name": "stderr",
          "output_type": "stream",
          "text": [
            " 42%|████▏     | 52/125 [00:10<00:13,  5.57it/s]"
          ]
        },
        {
          "name": "stdout",
          "output_type": "stream",
          "text": [
            "torch.float32 torch.float32\n",
            "torch.float32 torch.float32\n"
          ]
        },
        {
          "name": "stderr",
          "output_type": "stream",
          "text": [
            "\r 42%|████▏     | 53/125 [00:10<00:14,  5.03it/s]"
          ]
        },
        {
          "name": "stdout",
          "output_type": "stream",
          "text": [
            "torch.float32 torch.float32\n",
            "torch.float32 torch.float32\n"
          ]
        },
        {
          "name": "stderr",
          "output_type": "stream",
          "text": [
            "\r 44%|████▍     | 55/125 [00:10<00:13,  5.24it/s]"
          ]
        },
        {
          "name": "stdout",
          "output_type": "stream",
          "text": [
            "torch.float32 torch.float32\n",
            "torch.float32 torch.float32\n"
          ]
        },
        {
          "name": "stderr",
          "output_type": "stream",
          "text": [
            "\r 46%|████▌     | 57/125 [00:10<00:11,  5.91it/s]"
          ]
        },
        {
          "name": "stdout",
          "output_type": "stream",
          "text": [
            "torch.float32 torch.float32\n",
            "torch.float32 torch.float32\n"
          ]
        },
        {
          "name": "stderr",
          "output_type": "stream",
          "text": [
            "\r 47%|████▋     | 59/125 [00:11<00:10,  6.02it/s]"
          ]
        },
        {
          "name": "stdout",
          "output_type": "stream",
          "text": [
            "torch.float32 torch.float32\n",
            "torch.float32 torch.float32\n"
          ]
        },
        {
          "name": "stderr",
          "output_type": "stream",
          "text": [
            " 50%|████▉     | 62/125 [00:11<00:10,  6.11it/s]"
          ]
        },
        {
          "name": "stdout",
          "output_type": "stream",
          "text": [
            "torch.float32 torch.float32\n",
            "torch.float32 torch.float32\n"
          ]
        },
        {
          "name": "stderr",
          "output_type": "stream",
          "text": [
            " 51%|█████     | 64/125 [00:12<00:11,  5.46it/s]"
          ]
        },
        {
          "name": "stdout",
          "output_type": "stream",
          "text": [
            "torch.float32 torch.float32\n",
            "torch.float32 torch.float32\n"
          ]
        },
        {
          "name": "stderr",
          "output_type": "stream",
          "text": [
            " 53%|█████▎    | 66/125 [00:12<00:11,  4.99it/s]"
          ]
        },
        {
          "name": "stdout",
          "output_type": "stream",
          "text": [
            "torch.float32 torch.float32\n",
            "torch.float32 torch.float32\n"
          ]
        },
        {
          "name": "stderr",
          "output_type": "stream",
          "text": [
            " 54%|█████▍    | 68/125 [00:13<00:13,  4.38it/s]"
          ]
        },
        {
          "name": "stdout",
          "output_type": "stream",
          "text": [
            "torch.float32 torch.float32\n",
            "torch.float32 torch.float32\n"
          ]
        },
        {
          "name": "stderr",
          "output_type": "stream",
          "text": [
            " 56%|█████▌    | 70/125 [00:13<00:13,  3.97it/s]"
          ]
        },
        {
          "name": "stdout",
          "output_type": "stream",
          "text": [
            "torch.float32 torch.float32\n",
            "torch.float32 torch.float32\n"
          ]
        },
        {
          "name": "stderr",
          "output_type": "stream",
          "text": [
            " 58%|█████▊    | 72/125 [00:14<00:12,  4.24it/s]"
          ]
        },
        {
          "name": "stdout",
          "output_type": "stream",
          "text": [
            "torch.float32 torch.float32\n",
            "torch.float32 torch.float32\n"
          ]
        },
        {
          "name": "stderr",
          "output_type": "stream",
          "text": [
            "\r 58%|█████▊    | 73/125 [00:14<00:14,  3.48it/s]"
          ]
        },
        {
          "name": "stdout",
          "output_type": "stream",
          "text": [
            "torch.float32 torch.float32\n",
            "torch.float32 torch.float32\n"
          ]
        },
        {
          "name": "stderr",
          "output_type": "stream",
          "text": [
            " 61%|██████    | 76/125 [00:15<00:10,  4.57it/s]"
          ]
        },
        {
          "name": "stdout",
          "output_type": "stream",
          "text": [
            "torch.float32 torch.float32\n",
            "torch.float32 torch.float32\n"
          ]
        },
        {
          "name": "stderr",
          "output_type": "stream",
          "text": [
            " 62%|██████▏   | 78/125 [00:15<00:08,  5.36it/s]"
          ]
        },
        {
          "name": "stdout",
          "output_type": "stream",
          "text": [
            "torch.float32 torch.float32\n",
            "torch.float32 torch.float32\n"
          ]
        },
        {
          "name": "stderr",
          "output_type": "stream",
          "text": [
            " 64%|██████▍   | 80/125 [00:15<00:07,  5.79it/s]"
          ]
        },
        {
          "name": "stdout",
          "output_type": "stream",
          "text": [
            "torch.float32 torch.float32\n",
            "torch.float32 torch.float32\n"
          ]
        },
        {
          "name": "stderr",
          "output_type": "stream",
          "text": [
            "\r 65%|██████▍   | 81/125 [00:16<00:07,  5.64it/s]"
          ]
        },
        {
          "name": "stdout",
          "output_type": "stream",
          "text": [
            "torch.float32 torch.float32\n",
            "torch.float32 torch.float32\n"
          ]
        },
        {
          "name": "stderr",
          "output_type": "stream",
          "text": [
            " 67%|██████▋   | 84/125 [00:16<00:06,  6.10it/s]"
          ]
        },
        {
          "name": "stdout",
          "output_type": "stream",
          "text": [
            "torch.float32 torch.float32\n",
            "torch.float32 torch.float32\n"
          ]
        },
        {
          "name": "stderr",
          "output_type": "stream",
          "text": [
            " 69%|██████▉   | 86/125 [00:16<00:06,  5.85it/s]"
          ]
        },
        {
          "name": "stdout",
          "output_type": "stream",
          "text": [
            "torch.float32 torch.float32\n",
            "torch.float32 torch.float32\n"
          ]
        },
        {
          "name": "stderr",
          "output_type": "stream",
          "text": [
            " 70%|███████   | 88/125 [00:17<00:05,  6.38it/s]"
          ]
        },
        {
          "name": "stdout",
          "output_type": "stream",
          "text": [
            "torch.float32 torch.float32\n",
            "torch.float32 torch.float32\n"
          ]
        },
        {
          "name": "stderr",
          "output_type": "stream",
          "text": [
            " 72%|███████▏  | 90/125 [00:17<00:05,  6.15it/s]"
          ]
        },
        {
          "name": "stdout",
          "output_type": "stream",
          "text": [
            "torch.float32 torch.float32\n",
            "torch.float32 torch.float32\n"
          ]
        },
        {
          "name": "stderr",
          "output_type": "stream",
          "text": [
            "\r 73%|███████▎  | 91/125 [00:17<00:05,  5.67it/s]"
          ]
        },
        {
          "name": "stdout",
          "output_type": "stream",
          "text": [
            "torch.float32 torch.float32\n",
            "torch.float32 torch.float32\n"
          ]
        },
        {
          "name": "stderr",
          "output_type": "stream",
          "text": [
            "\r 74%|███████▍  | 93/125 [00:18<00:05,  5.77it/s]"
          ]
        },
        {
          "name": "stdout",
          "output_type": "stream",
          "text": [
            "torch.float32 torch.float32\n",
            "torch.float32 torch.float32\n"
          ]
        },
        {
          "name": "stderr",
          "output_type": "stream",
          "text": [
            "\r 76%|███████▌  | 95/125 [00:18<00:05,  5.62it/s]"
          ]
        },
        {
          "name": "stdout",
          "output_type": "stream",
          "text": [
            "torch.float32 torch.float32\n",
            "torch.float32 torch.float32\n"
          ]
        },
        {
          "name": "stderr",
          "output_type": "stream",
          "text": [
            "\r 78%|███████▊  | 97/125 [00:18<00:04,  5.99it/s]"
          ]
        },
        {
          "name": "stdout",
          "output_type": "stream",
          "text": [
            "torch.float32 torch.float32\n",
            "torch.float32 torch.float32\n"
          ]
        },
        {
          "name": "stderr",
          "output_type": "stream",
          "text": [
            "\r 79%|███████▉  | 99/125 [00:19<00:04,  5.71it/s]"
          ]
        },
        {
          "name": "stdout",
          "output_type": "stream",
          "text": [
            "torch.float32 torch.float32\n",
            "torch.float32 torch.float32\n"
          ]
        },
        {
          "name": "stderr",
          "output_type": "stream",
          "text": [
            " 82%|████████▏ | 102/125 [00:19<00:03,  6.14it/s]"
          ]
        },
        {
          "name": "stdout",
          "output_type": "stream",
          "text": [
            "torch.float32 torch.float32\n",
            "torch.float32 torch.float32\n"
          ]
        },
        {
          "name": "stderr",
          "output_type": "stream",
          "text": [
            "\r 82%|████████▏ | 103/125 [00:19<00:03,  5.79it/s]"
          ]
        },
        {
          "name": "stdout",
          "output_type": "stream",
          "text": [
            "torch.float32 torch.float32\n",
            "torch.float32 torch.float32\n"
          ]
        },
        {
          "name": "stderr",
          "output_type": "stream",
          "text": [
            "\r 84%|████████▍ | 105/125 [00:20<00:03,  6.07it/s]"
          ]
        },
        {
          "name": "stdout",
          "output_type": "stream",
          "text": [
            "torch.float32 torch.float32\n",
            "torch.float32 torch.float32\n"
          ]
        },
        {
          "name": "stderr",
          "output_type": "stream",
          "text": [
            " 86%|████████▋ | 108/125 [00:20<00:02,  6.34it/s]"
          ]
        },
        {
          "name": "stdout",
          "output_type": "stream",
          "text": [
            "torch.float32 torch.float32\n",
            "torch.float32 torch.float32\n"
          ]
        },
        {
          "name": "stderr",
          "output_type": "stream",
          "text": [
            "\r 87%|████████▋ | 109/125 [00:20<00:02,  5.90it/s]"
          ]
        },
        {
          "name": "stdout",
          "output_type": "stream",
          "text": [
            "torch.float32 torch.float32\n",
            "torch.float32 torch.float32\n"
          ]
        },
        {
          "name": "stderr",
          "output_type": "stream",
          "text": [
            "\r 89%|████████▉ | 111/125 [00:21<00:02,  6.05it/s]"
          ]
        },
        {
          "name": "stdout",
          "output_type": "stream",
          "text": [
            "torch.float32 torch.float32\n",
            "torch.float32 torch.float32\n"
          ]
        },
        {
          "name": "stderr",
          "output_type": "stream",
          "text": [
            " 91%|█████████ | 114/125 [00:21<00:01,  6.05it/s]"
          ]
        },
        {
          "name": "stdout",
          "output_type": "stream",
          "text": [
            "torch.float32 torch.float32\n",
            "torch.float32 torch.float32\n"
          ]
        },
        {
          "name": "stderr",
          "output_type": "stream",
          "text": [
            " 93%|█████████▎| 116/125 [00:22<00:01,  6.16it/s]"
          ]
        },
        {
          "name": "stdout",
          "output_type": "stream",
          "text": [
            "torch.float32 torch.float32\n",
            "torch.float32 torch.float32\n"
          ]
        },
        {
          "name": "stderr",
          "output_type": "stream",
          "text": [
            " 94%|█████████▍| 118/125 [00:22<00:01,  6.57it/s]"
          ]
        },
        {
          "name": "stdout",
          "output_type": "stream",
          "text": [
            "torch.float32 torch.float32\n",
            "torch.float32 torch.float32\n"
          ]
        },
        {
          "name": "stderr",
          "output_type": "stream",
          "text": [
            " 96%|█████████▌| 120/125 [00:22<00:00,  6.08it/s]"
          ]
        },
        {
          "name": "stdout",
          "output_type": "stream",
          "text": [
            "torch.float32 torch.float32\n",
            "torch.float32 torch.float32\n"
          ]
        },
        {
          "name": "stderr",
          "output_type": "stream",
          "text": [
            " 98%|█████████▊| 122/125 [00:22<00:00,  6.32it/s]"
          ]
        },
        {
          "name": "stdout",
          "output_type": "stream",
          "text": [
            "torch.float32 torch.float32\n",
            "torch.float32 torch.float32\n"
          ]
        },
        {
          "name": "stderr",
          "output_type": "stream",
          "text": [
            "\r 98%|█████████▊| 123/125 [00:23<00:00,  5.57it/s]"
          ]
        },
        {
          "name": "stdout",
          "output_type": "stream",
          "text": [
            "torch.float32 torch.float32\n",
            "torch.float32 torch.float32\n"
          ]
        },
        {
          "name": "stderr",
          "output_type": "stream",
          "text": [
            "100%|██████████| 125/125 [00:23<00:00,  5.30it/s]"
          ]
        },
        {
          "name": "stdout",
          "output_type": "stream",
          "text": [
            "torch.float32 torch.float32\n",
            "Zero-Shot Accuracy with Aligned Embeddings: 95.11%\n"
          ]
        },
        {
          "name": "stderr",
          "output_type": "stream",
          "text": [
            "\n"
          ]
        }
      ],
      "source": [
        "# Normalize text and aligned image embeddings\n",
        "aligned_image_embeddings /= aligned_image_embeddings.norm(dim=-1, keepdim=True)\n",
        "text_features_norm = text_features / text_features.norm(dim=-1, keepdim=True)  # from part 1\n",
        "text_features_norm = text_features_norm.to(dtype=torch.float32)\n",
        "\n",
        "correct_aligned = 0\n",
        "total_aligned = 0\n",
        "\n",
        "with torch.no_grad():\n",
        "    for images, labels in tqdm(dataloader):\n",
        "        images = images.to(device)\n",
        "        labels = labels.to(device)\n",
        "\n",
        "        # encode images\n",
        "        img_feats = model.encode_image(images)\n",
        "        img_feats /= img_feats.norm(dim=-1, keepdim=True)\n",
        "\n",
        "        # Apply rotation\n",
        "        img_feats_rotated = torch.tensor(img_feats.cpu().numpy() @ R).to(device)\n",
        "        img_feats_rotated /= img_feats_rotated.norm(dim=-1, keepdim=True)\n",
        "        img_feats_rotated = img_feats_rotated.to(dtype=text_features_norm.dtype)\n",
        "\n",
        "        print(img_feats_rotated.dtype, text_features_norm.dtype)\n",
        "\n",
        "        # similarity and predictions\n",
        "        similarity = (100.0 * img_feats_rotated @ text_features_norm.T)\n",
        "        preds = similarity.argmax(dim=1)\n",
        "\n",
        "        correct_aligned += (preds == labels).sum().item()\n",
        "        total_aligned += labels.size(0)\n",
        "\n",
        "accuracy_aligned = 100 * correct_aligned / total_aligned\n",
        "print(f\"Zero-Shot Accuracy with Aligned Embeddings: {accuracy_aligned:.2f}%\")\n"
      ]
    }
  ],
  "metadata": {
    "accelerator": "GPU",
    "colab": {
      "gpuType": "T4",
      "provenance": []
    },
    "kernelspec": {
      "display_name": "Python 3",
      "name": "python3"
    },
    "language_info": {
      "codemirror_mode": {
        "name": "ipython",
        "version": 3
      },
      "file_extension": ".py",
      "mimetype": "text/x-python",
      "name": "python",
      "nbconvert_exporter": "python",
      "pygments_lexer": "ipython3",
      "version": "3.13.2"
    }
  },
  "nbformat": 4,
  "nbformat_minor": 0
}
